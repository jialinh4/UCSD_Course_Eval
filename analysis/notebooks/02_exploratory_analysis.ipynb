{
 "cells": [
  {
   "cell_type": "markdown",
   "id": "6937072e-1f26-40a5-a90d-3dc9910e484f",
   "metadata": {},
   "source": [
    "# Phase 2: Exploratory Analysis & Initial Visualization\n",
    "\n",
    "In this notebook, we load the cleaned DataFrame (exported by `01_phase1_data_cleaning.ipynb`) and perform:\n",
    "- Basic descriptive stats (mean, median, etc. of GPA).\n",
    "- Visual distribution plots.\n",
    "- Preliminary look at course/professor/term coverage.\n",
    "- Optional detection of anomalies (e.g., GPA out of [0, 4] range).\n",
    "- Optional drop rate analysis (if such a column exists).\n",
    "- Example group-by analysis for professors/courses.\n",
    "\n",
    "We assume `cleaned_grades.pkl` is available in the `analysis/data/` folder."
   ]
  },
  {
   "cell_type": "code",
   "execution_count": 2,
   "id": "6bea676e-db30-4c30-b54e-b064a67ed990",
   "metadata": {},
   "outputs": [],
   "source": [
    "import os\n",
    "import pandas as pd\n",
    "import matplotlib.pyplot as plt\n",
    "\n",
    "%matplotlib inline"
   ]
  },
  {
   "cell_type": "code",
   "execution_count": 3,
   "id": "464217a8-a203-4a9c-963a-0fdf2b339dee",
   "metadata": {},
   "outputs": [
    {
     "name": "stdout",
     "output_type": "stream",
     "text": [
      "Loaded cleaned DataFrame from Phase 1.\n",
      "DataFrame shape: (9454, 10)\n"
     ]
    },
    {
     "data": {
      "text/html": [
       "<div>\n",
       "<style scoped>\n",
       "    .dataframe tbody tr th:only-of-type {\n",
       "        vertical-align: middle;\n",
       "    }\n",
       "\n",
       "    .dataframe tbody tr th {\n",
       "        vertical-align: top;\n",
       "    }\n",
       "\n",
       "    .dataframe thead th {\n",
       "        text-align: right;\n",
       "    }\n",
       "</style>\n",
       "<table border=\"1\" class=\"dataframe\">\n",
       "  <thead>\n",
       "    <tr style=\"text-align: right;\">\n",
       "      <th></th>\n",
       "      <th>Submission time</th>\n",
       "      <th>User ID</th>\n",
       "      <th>Term</th>\n",
       "      <th>Course</th>\n",
       "      <th>Professor</th>\n",
       "      <th>Grade distribution</th>\n",
       "      <th>Recommend professor?</th>\n",
       "      <th>enhanced_grade_dict</th>\n",
       "      <th>enhanced_calculated_gpa</th>\n",
       "      <th>gpa_status</th>\n",
       "    </tr>\n",
       "  </thead>\n",
       "  <tbody>\n",
       "    <tr>\n",
       "      <th>0</th>\n",
       "      <td>2023-12-23T05:50:18.840Z</td>\n",
       "      <td>b144031aa5f07b5677aa3431b98f674d</td>\n",
       "      <td>Fall Qtr 2023</td>\n",
       "      <td>CSE 120</td>\n",
       "      <td>Voelker, Geoffrey M.</td>\n",
       "      <td>A+:11, A:41, A-:25, B+:41, B:28, B-:16, C+:12,...</td>\n",
       "      <td>NaN</td>\n",
       "      <td>{'a+': 11, 'a': 41, 'a-': 25, 'b+': 41, 'b': 2...</td>\n",
       "      <td>3.137864</td>\n",
       "      <td>computable</td>\n",
       "    </tr>\n",
       "    <tr>\n",
       "      <th>1</th>\n",
       "      <td>2023-12-23T05:50:18.840Z</td>\n",
       "      <td>b144031aa5f07b5677aa3431b98f674d</td>\n",
       "      <td>Fall Qtr 2023</td>\n",
       "      <td>CSE 132A</td>\n",
       "      <td>Vianu, Victor Dan</td>\n",
       "      <td>A+:4, A:23, A-:19, B+:40, B:15, B-:27, C+:15, ...</td>\n",
       "      <td>NaN</td>\n",
       "      <td>{'a+': 4, 'a': 23, 'a-': 19, 'b+': 40, 'b': 15...</td>\n",
       "      <td>2.966463</td>\n",
       "      <td>computable</td>\n",
       "    </tr>\n",
       "    <tr>\n",
       "      <th>2</th>\n",
       "      <td>2023-12-23T05:50:18.840Z</td>\n",
       "      <td>b144031aa5f07b5677aa3431b98f674d</td>\n",
       "      <td>Fall Qtr 2023</td>\n",
       "      <td>CSE 141L</td>\n",
       "      <td>Eldon, John</td>\n",
       "      <td>A+:1, A:28, A-:4, B+:2, B:0, B-:3, C+:0, C:3, ...</td>\n",
       "      <td>NaN</td>\n",
       "      <td>{'a+': 1, 'a': 28, 'a-': 4, 'b+': 2, 'b': 0, '...</td>\n",
       "      <td>3.366667</td>\n",
       "      <td>computable</td>\n",
       "    </tr>\n",
       "    <tr>\n",
       "      <th>3</th>\n",
       "      <td>2023-12-23T05:50:18.840Z</td>\n",
       "      <td>b144031aa5f07b5677aa3431b98f674d</td>\n",
       "      <td>Fall Qtr 2023</td>\n",
       "      <td>CSE 167</td>\n",
       "      <td>Li, Tzumao</td>\n",
       "      <td>A+:102, A:22, A-:11, B+:5, B:7, B-:6, C+:2, C:...</td>\n",
       "      <td>NaN</td>\n",
       "      <td>{'a+': 102, 'a': 22, 'a-': 11, 'b+': 5, 'b': 7...</td>\n",
       "      <td>3.709756</td>\n",
       "      <td>computable</td>\n",
       "    </tr>\n",
       "    <tr>\n",
       "      <th>4</th>\n",
       "      <td>2023-12-23T05:50:18.840Z</td>\n",
       "      <td>b144031aa5f07b5677aa3431b98f674d</td>\n",
       "      <td>Fall Qtr 2023</td>\n",
       "      <td>CSE 230</td>\n",
       "      <td>Jhala, Ranjit</td>\n",
       "      <td>A+:29, A:42, A-:26, B+:16, B:7, B-:1, C+:0, C:...</td>\n",
       "      <td>NaN</td>\n",
       "      <td>{'a+': 29, 'a': 42, 'a-': 26, 'b+': 16, 'b': 7...</td>\n",
       "      <td>3.743443</td>\n",
       "      <td>computable</td>\n",
       "    </tr>\n",
       "  </tbody>\n",
       "</table>\n",
       "</div>"
      ],
      "text/plain": [
       "            Submission time                           User ID           Term  \\\n",
       "0  2023-12-23T05:50:18.840Z  b144031aa5f07b5677aa3431b98f674d  Fall Qtr 2023   \n",
       "1  2023-12-23T05:50:18.840Z  b144031aa5f07b5677aa3431b98f674d  Fall Qtr 2023   \n",
       "2  2023-12-23T05:50:18.840Z  b144031aa5f07b5677aa3431b98f674d  Fall Qtr 2023   \n",
       "3  2023-12-23T05:50:18.840Z  b144031aa5f07b5677aa3431b98f674d  Fall Qtr 2023   \n",
       "4  2023-12-23T05:50:18.840Z  b144031aa5f07b5677aa3431b98f674d  Fall Qtr 2023   \n",
       "\n",
       "     Course             Professor  \\\n",
       "0   CSE 120  Voelker, Geoffrey M.   \n",
       "1  CSE 132A     Vianu, Victor Dan   \n",
       "2  CSE 141L           Eldon, John   \n",
       "3   CSE 167            Li, Tzumao   \n",
       "4   CSE 230         Jhala, Ranjit   \n",
       "\n",
       "                                  Grade distribution  Recommend professor?  \\\n",
       "0  A+:11, A:41, A-:25, B+:41, B:28, B-:16, C+:12,...                   NaN   \n",
       "1  A+:4, A:23, A-:19, B+:40, B:15, B-:27, C+:15, ...                   NaN   \n",
       "2  A+:1, A:28, A-:4, B+:2, B:0, B-:3, C+:0, C:3, ...                   NaN   \n",
       "3  A+:102, A:22, A-:11, B+:5, B:7, B-:6, C+:2, C:...                   NaN   \n",
       "4  A+:29, A:42, A-:26, B+:16, B:7, B-:1, C+:0, C:...                   NaN   \n",
       "\n",
       "                                 enhanced_grade_dict  enhanced_calculated_gpa  \\\n",
       "0  {'a+': 11, 'a': 41, 'a-': 25, 'b+': 41, 'b': 2...                 3.137864   \n",
       "1  {'a+': 4, 'a': 23, 'a-': 19, 'b+': 40, 'b': 15...                 2.966463   \n",
       "2  {'a+': 1, 'a': 28, 'a-': 4, 'b+': 2, 'b': 0, '...                 3.366667   \n",
       "3  {'a+': 102, 'a': 22, 'a-': 11, 'b+': 5, 'b': 7...                 3.709756   \n",
       "4  {'a+': 29, 'a': 42, 'a-': 26, 'b+': 16, 'b': 7...                 3.743443   \n",
       "\n",
       "   gpa_status  \n",
       "0  computable  \n",
       "1  computable  \n",
       "2  computable  \n",
       "3  computable  \n",
       "4  computable  "
      ]
     },
     "metadata": {},
     "output_type": "display_data"
    }
   ],
   "source": [
    "input_file = os.path.join(\"..\", \"data\", \"cleaned_grades.pkl\")\n",
    "df = pd.read_pickle(input_file)\n",
    "\n",
    "print(\"Loaded cleaned DataFrame from Phase 1.\")\n",
    "print(f\"DataFrame shape: {df.shape}\")\n",
    "display(df.head(5))"
   ]
  },
  {
   "cell_type": "code",
   "execution_count": 4,
   "id": "0b859424-1db0-4edd-8121-2cfff1b905aa",
   "metadata": {},
   "outputs": [
    {
     "name": "stdout",
     "output_type": "stream",
     "text": [
      "=== Descriptive Stats for Computable GPA ===\n",
      "Count: 8664\n",
      "Mean: 3.30\n",
      "Median: 3.32\n",
      "Std Dev: 0.45\n",
      "Min GPA: 0.00\n",
      "Max GPA: 4.00\n"
     ]
    },
    {
     "data": {
      "image/png": "[encoded data removed]",
      "text/plain": [
       "<Figure size 640x480 with 1 Axes>"
      ]
     },
     "metadata": {},
     "output_type": "display_data"
    }
   ],
   "source": [
    "df_computable = df[df[\"gpa_status\"] == \"computable\"].copy()\n",
    "\n",
    "mean_gpa = df_computable[\"enhanced_calculated_gpa\"].mean()\n",
    "median_gpa = df_computable[\"enhanced_calculated_gpa\"].median()\n",
    "std_gpa = df_computable[\"enhanced_calculated_gpa\"].std()\n",
    "min_gpa = df_computable[\"enhanced_calculated_gpa\"].min()\n",
    "max_gpa = df_computable[\"enhanced_calculated_gpa\"].max()\n",
    "\n",
    "print(\"=== Descriptive Stats for Computable GPA ===\")\n",
    "print(f\"Count: {len(df_computable)}\")\n",
    "print(f\"Mean: {mean_gpa:.2f}\")\n",
    "print(f\"Median: {median_gpa:.2f}\")\n",
    "print(f\"Std Dev: {std_gpa:.2f}\")\n",
    "print(f\"Min GPA: {min_gpa:.2f}\")\n",
    "print(f\"Max GPA: {max_gpa:.2f}\")\n",
    "\n",
    "# Histogram\n",
    "df_computable[\"enhanced_calculated_gpa\"].hist(bins=20)\n",
    "plt.title(\"GPA Distribution (Phase 2)\")\n",
    "plt.xlabel(\"GPA\")\n",
    "plt.ylabel(\"Frequency\")\n",
    "plt.show()"
   ]
  },
  {
   "cell_type": "code",
   "execution_count": 5,
   "id": "297768e1-617e-4377-b44a-6c3cc1f639e5",
   "metadata": {},
   "outputs": [
    {
     "name": "stdout",
     "output_type": "stream",
     "text": [
      "\n",
      "=== Coverage Info ===\n",
      "Unique courses: 1261\n",
      "Unique professors: 1409\n",
      "Unique terms: 31\n",
      "\n",
      "Records per Term:\n"
     ]
    },
    {
     "data": {
      "text/plain": [
       "Term\n",
       "Fall Qtr 2023      1700\n",
       "Spring Qtr 2023    1022\n",
       "Winter Qtr 2023    1013\n",
       "Winter Qtr 2024    1011\n",
       "Fall Qtr 2022       978\n",
       "Spring Qtr 2024     494\n",
       "Fall Qtr 2024       490\n",
       "Fall Qtr 2021       460\n",
       "Winter Qtr 2022     459\n",
       "Spring Qtr 2022     447\n",
       "Winter Qtr 2025     210\n",
       "Spring Qtr 2021     164\n",
       "Winter Qtr 2021     159\n",
       "Fall Qtr 2020       157\n",
       "Sum Ses II 2023     149\n",
       "Sum Ses II 2022      97\n",
       "Sum Ses I 2023       93\n",
       "Sum Ses I 2022       55\n",
       "Sum Ses I 2024       50\n",
       "Sum Ses II 2024      39\n",
       "Winter Qtr 2020      36\n",
       "Spring Qtr 2020      33\n",
       "Fall Qtr 2019        30\n",
       "Sum Ses I 2021       20\n",
       "Sum Ses II 2021      17\n",
       "Sum Ses II 2020      16\n",
       "Sum Ses I 2020       16\n",
       "SpecSumSes 2021      14\n",
       "SpecSumSes 2023      11\n",
       "SpecSumSes 2022       9\n",
       "SpecSumSes 2024       5\n",
       "Name: count, dtype: int64"
      ]
     },
     "metadata": {},
     "output_type": "display_data"
    }
   ],
   "source": [
    "num_courses = df[\"Course\"].nunique()\n",
    "num_professors = df[\"Professor\"].nunique()\n",
    "num_terms = df[\"Term\"].nunique()\n",
    "\n",
    "print(\"\\n=== Coverage Info ===\")\n",
    "print(f\"Unique courses: {num_courses}\")\n",
    "print(f\"Unique professors: {num_professors}\")\n",
    "print(f\"Unique terms: {num_terms}\")\n",
    "\n",
    "print(\"\\nRecords per Term:\")\n",
    "term_counts = df[\"Term\"].value_counts()\n",
    "display(term_counts)"
   ]
  },
  {
   "cell_type": "code",
   "execution_count": 6,
   "id": "cf99639e-0d39-43f1-a6c9-59fb38e303e0",
   "metadata": {},
   "outputs": [
    {
     "name": "stdout",
     "output_type": "stream",
     "text": [
      "No anomalous GPA (<0 or >4) detected.\n"
     ]
    }
   ],
   "source": [
    "# Check for GPA < 0.0 or > 4.0, which shouldn't normally happen\n",
    "df_anomalies = df_computable[\n",
    "    (df_computable[\"enhanced_calculated_gpa\"] < 0.0) | \n",
    "    (df_computable[\"enhanced_calculated_gpa\"] > 4.0)\n",
    "]\n",
    "\n",
    "if not df_anomalies.empty:\n",
    "    print(\"Potentially anomalous GPA rows found:\")\n",
    "    display(df_anomalies[[\"Course\", \"Professor\", \"enhanced_calculated_gpa\"]])\n",
    "else:\n",
    "    print(\"No anomalous GPA (<0 or >4) detected.\")"
   ]
  },
  {
   "cell_type": "code",
   "execution_count": 7,
   "id": "5f416609-9423-4d75-9fea-60122a299cb9",
   "metadata": {},
   "outputs": [
    {
     "name": "stdout",
     "output_type": "stream",
     "text": [
      "\n",
      "No 'drop_rate' column found. Skipping drop rate analysis.\n"
     ]
    }
   ],
   "source": [
    "# If there's a 'drop_rate' column (0 ~ 1), do descriptive stats & histogram\n",
    "if \"drop_rate\" in df.columns:\n",
    "    mean_drop = df[\"drop_rate\"].mean()\n",
    "    median_drop = df[\"drop_rate\"].median()\n",
    "    std_drop = df[\"drop_rate\"].std()\n",
    "    min_drop = df[\"drop_rate\"].min()\n",
    "    max_drop = df[\"drop_rate\"].max()\n",
    "\n",
    "    print(\"\\n=== Drop Rate Descriptive Statistics ===\")\n",
    "    print(f\"Count: {df['drop_rate'].notnull().sum()}\")\n",
    "    print(f\"Mean drop rate: {mean_drop:.2%}\")\n",
    "    print(f\"Median drop rate: {median_drop:.2%}\")\n",
    "    print(f\"Std dev: {std_drop:.2%}\")\n",
    "    print(f\"Min drop rate: {min_drop:.2%}\")\n",
    "    print(f\"Max drop rate: {max_drop:.2%}\")\n",
    "\n",
    "    df[\"drop_rate\"].hist(bins=20)\n",
    "    plt.title(\"Drop Rate Distribution\")\n",
    "    plt.xlabel(\"Drop Rate\")\n",
    "    plt.ylabel(\"Frequency\")\n",
    "    plt.show()\n",
    "else:\n",
    "    print(\"\\nNo 'drop_rate' column found. Skipping drop rate analysis.\")"
   ]
  },
  {
   "cell_type": "code",
   "execution_count": 8,
   "id": "7eb5e4e8-e31d-469b-8f14-f8a9266411ad",
   "metadata": {},
   "outputs": [
    {
     "name": "stdout",
     "output_type": "stream",
     "text": [
      "Top 10 courses by average GPA (computable rows):\n"
     ]
    },
    {
     "data": {
      "text/plain": [
       "Course\n",
       "ENG 100L     4.0\n",
       "ETHN 122     4.0\n",
       "TDGE 100     4.0\n",
       "CAT 124RS    4.0\n",
       "EDS 180      4.0\n",
       "MUS 95E      4.0\n",
       "MUS 95JC     4.0\n",
       "MUS 95K      4.0\n",
       "BIMM 194     4.0\n",
       "POLI 100G    4.0\n",
       "Name: enhanced_calculated_gpa, dtype: float64"
      ]
     },
     "metadata": {},
     "output_type": "display_data"
    },
    {
     "name": "stdout",
     "output_type": "stream",
     "text": [
      "\n",
      "Top 10 professors by average GPA:\n"
     ]
    },
    {
     "data": {
      "text/plain": [
       "Professor\n",
       "Hasty, Jeff M                4.0\n",
       "Taylor, Alexander Lawther    4.0\n",
       "Karlseder, Jan               4.0\n",
       "Allen, Eric                  4.0\n",
       "Kalleres, Dayna              4.0\n",
       "Tran, Ly Thi Hai             4.0\n",
       "Graham, Erin                 4.0\n",
       "Henson, Matthew Alexander    4.0\n",
       "Stone, Patricia              4.0\n",
       "Byers, Barbara Lee           4.0\n",
       "Name: enhanced_calculated_gpa, dtype: float64"
      ]
     },
     "metadata": {},
     "output_type": "display_data"
    }
   ],
   "source": [
    "# Example: Group by Course to see average GPA\n",
    "course_gpa = (df_computable\n",
    "              .groupby(\"Course\")[\"enhanced_calculated_gpa\"]\n",
    "              .mean()\n",
    "              .sort_values(ascending=False))\n",
    "\n",
    "print(\"Top 10 courses by average GPA (computable rows):\")\n",
    "display(course_gpa.head(10))\n",
    "\n",
    "# Similarly, grouping by Professor\n",
    "prof_gpa = (df_computable\n",
    "            .groupby(\"Professor\")[\"enhanced_calculated_gpa\"]\n",
    "            .mean()\n",
    "            .sort_values(ascending=False))\n",
    "\n",
    "print(\"\\nTop 10 professors by average GPA:\")\n",
    "display(prof_gpa.head(10))"
   ]
  },
  {
   "cell_type": "markdown",
   "id": "29d78f57-9b13-4641-ba24-a2e3e91164d5",
   "metadata": {},
   "source": [
    "# Next Steps\n",
    "\n",
    "1. [Optional] Address any anomalies (e.g., negative or >4.0 GPA) by revisiting the parsing logic.\n",
    "2. Compare GPA across professors or courses more thoroughly (boxplots, bar charts).\n",
    "3. Convert `Term` to a standardized format if we want to do time-series or year-by-year analysis.\n",
    "4. Integrate additional data (Drop rate, workload, project counts, etc.) to build advanced models or multi-factor ratings.\n"
   ]
  }
 ],
 "metadata": {
  "kernelspec": {
   "display_name": "Python 3 (ipykernel)",
   "language": "python",
   "name": "python3"
  },
  "language_info": {
   "codemirror_mode": {
    "name": "ipython",
    "version": 3
   },
   "file_extension": ".py",
   "mimetype": "text/x-python",
   "name": "python",
   "nbconvert_exporter": "python",
   "pygments_lexer": "ipython3",
   "version": "3.10.14"
  }
 },
 "nbformat": 4,
 "nbformat_minor": 5
}

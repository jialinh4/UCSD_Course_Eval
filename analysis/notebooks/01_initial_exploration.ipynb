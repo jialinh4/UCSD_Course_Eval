{
 "cells": [
  {
   "cell_type": "code",
   "execution_count": 2,
   "id": "af659111-27ca-409b-932a-c505c0992e97",
   "metadata": {},
   "outputs": [],
   "source": [
    "# ---\n",
    "# Jupyter Notebook: 01_initial_exploration.ipynb\n",
    "# Purpose: Initial CSV data reading and exploratory analysis\n",
    "# ---"
   ]
  },
  {
   "cell_type": "code",
   "execution_count": 3,
   "id": "4f0f88f2-5631-42ed-96a7-8e27eb480530",
   "metadata": {},
   "outputs": [],
   "source": [
    "import os\n",
    "import pandas as pd\n",
    "import matplotlib.pyplot as plt\n",
    "\n",
    "%matplotlib inline\n",
    "# For inline plots in Jupyter"
   ]
  },
  {
   "cell_type": "code",
   "execution_count": 4,
   "id": "14273bc5-1083-4d7c-812e-8bb668400cb9",
   "metadata": {},
   "outputs": [],
   "source": [
    "# 1. Set the path to the CSV file\n",
    "data_file = os.path.join(\"..\", \"data\", \"Crowd-sourced grade distributions - Sheet1.csv\")\n",
    "\n",
    "# 2. Read the CSV file into a DataFrame\n",
    "df = pd.read_csv(data_file)"
   ]
  },
  {
   "cell_type": "code",
   "execution_count": 5,
   "id": "fa2737df-400e-4298-87c2-b7c9ddbf0c46",
   "metadata": {},
   "outputs": [
    {
     "name": "stdout",
     "output_type": "stream",
     "text": [
      "Preview of the dataset:\n"
     ]
    },
    {
     "data": {
      "text/html": [
       "<div>\n",
       "<style scoped>\n",
       "    .dataframe tbody tr th:only-of-type {\n",
       "        vertical-align: middle;\n",
       "    }\n",
       "\n",
       "    .dataframe tbody tr th {\n",
       "        vertical-align: top;\n",
       "    }\n",
       "\n",
       "    .dataframe thead th {\n",
       "        text-align: right;\n",
       "    }\n",
       "</style>\n",
       "<table border=\"1\" class=\"dataframe\">\n",
       "  <thead>\n",
       "    <tr style=\"text-align: right;\">\n",
       "      <th></th>\n",
       "      <th>Submission time</th>\n",
       "      <th>User ID</th>\n",
       "      <th>Term</th>\n",
       "      <th>Course</th>\n",
       "      <th>Professor</th>\n",
       "      <th>Grade distribution</th>\n",
       "      <th>Recommend professor?</th>\n",
       "    </tr>\n",
       "  </thead>\n",
       "  <tbody>\n",
       "    <tr>\n",
       "      <th>0</th>\n",
       "      <td>2023-12-23T05:50:18.840Z</td>\n",
       "      <td>b144031aa5f07b5677aa3431b98f674d</td>\n",
       "      <td>Fall Qtr 2023</td>\n",
       "      <td>CSE 120</td>\n",
       "      <td>Voelker, Geoffrey M.</td>\n",
       "      <td>A+:11, A:41, A-:25, B+:41, B:28, B-:16, C+:12,...</td>\n",
       "      <td>NaN</td>\n",
       "    </tr>\n",
       "    <tr>\n",
       "      <th>1</th>\n",
       "      <td>2023-12-23T05:50:18.840Z</td>\n",
       "      <td>b144031aa5f07b5677aa3431b98f674d</td>\n",
       "      <td>Fall Qtr 2023</td>\n",
       "      <td>CSE 132A</td>\n",
       "      <td>Vianu, Victor Dan</td>\n",
       "      <td>A+:4, A:23, A-:19, B+:40, B:15, B-:27, C+:15, ...</td>\n",
       "      <td>NaN</td>\n",
       "    </tr>\n",
       "    <tr>\n",
       "      <th>2</th>\n",
       "      <td>2023-12-23T05:50:18.840Z</td>\n",
       "      <td>b144031aa5f07b5677aa3431b98f674d</td>\n",
       "      <td>Fall Qtr 2023</td>\n",
       "      <td>CSE 141L</td>\n",
       "      <td>Eldon, John</td>\n",
       "      <td>A+:1, A:28, A-:4, B+:2, B:0, B-:3, C+:0, C:3, ...</td>\n",
       "      <td>NaN</td>\n",
       "    </tr>\n",
       "    <tr>\n",
       "      <th>3</th>\n",
       "      <td>2023-12-23T05:50:18.840Z</td>\n",
       "      <td>b144031aa5f07b5677aa3431b98f674d</td>\n",
       "      <td>Fall Qtr 2023</td>\n",
       "      <td>CSE 167</td>\n",
       "      <td>Li, Tzumao</td>\n",
       "      <td>A+:102, A:22, A-:11, B+:5, B:7, B-:6, C+:2, C:...</td>\n",
       "      <td>NaN</td>\n",
       "    </tr>\n",
       "    <tr>\n",
       "      <th>4</th>\n",
       "      <td>2023-12-23T05:50:18.840Z</td>\n",
       "      <td>b144031aa5f07b5677aa3431b98f674d</td>\n",
       "      <td>Fall Qtr 2023</td>\n",
       "      <td>CSE 230</td>\n",
       "      <td>Jhala, Ranjit</td>\n",
       "      <td>A+:29, A:42, A-:26, B+:16, B:7, B-:1, C+:0, C:...</td>\n",
       "      <td>NaN</td>\n",
       "    </tr>\n",
       "  </tbody>\n",
       "</table>\n",
       "</div>"
      ],
      "text/plain": [
       "            Submission time                           User ID           Term  \\\n",
       "0  2023-12-23T05:50:18.840Z  b144031aa5f07b5677aa3431b98f674d  Fall Qtr 2023   \n",
       "1  2023-12-23T05:50:18.840Z  b144031aa5f07b5677aa3431b98f674d  Fall Qtr 2023   \n",
       "2  2023-12-23T05:50:18.840Z  b144031aa5f07b5677aa3431b98f674d  Fall Qtr 2023   \n",
       "3  2023-12-23T05:50:18.840Z  b144031aa5f07b5677aa3431b98f674d  Fall Qtr 2023   \n",
       "4  2023-12-23T05:50:18.840Z  b144031aa5f07b5677aa3431b98f674d  Fall Qtr 2023   \n",
       "\n",
       "     Course             Professor  \\\n",
       "0   CSE 120  Voelker, Geoffrey M.   \n",
       "1  CSE 132A     Vianu, Victor Dan   \n",
       "2  CSE 141L           Eldon, John   \n",
       "3   CSE 167            Li, Tzumao   \n",
       "4   CSE 230         Jhala, Ranjit   \n",
       "\n",
       "                                  Grade distribution  Recommend professor?  \n",
       "0  A+:11, A:41, A-:25, B+:41, B:28, B-:16, C+:12,...                   NaN  \n",
       "1  A+:4, A:23, A-:19, B+:40, B:15, B-:27, C+:15, ...                   NaN  \n",
       "2  A+:1, A:28, A-:4, B+:2, B:0, B-:3, C+:0, C:3, ...                   NaN  \n",
       "3  A+:102, A:22, A-:11, B+:5, B:7, B-:6, C+:2, C:...                   NaN  \n",
       "4  A+:29, A:42, A-:26, B+:16, B:7, B-:1, C+:0, C:...                   NaN  "
      ]
     },
     "execution_count": 5,
     "metadata": {},
     "output_type": "execute_result"
    }
   ],
   "source": [
    "# Display the first few rows\n",
    "print(\"Preview of the dataset:\")\n",
    "df.head()"
   ]
  },
  {
   "cell_type": "code",
   "execution_count": 6,
   "id": "a9568231-4ca6-43ae-8a9d-99473846681f",
   "metadata": {},
   "outputs": [
    {
     "name": "stdout",
     "output_type": "stream",
     "text": [
      "\n",
      "DataFrame info:\n",
      "<class 'pandas.core.frame.DataFrame'>\n",
      "RangeIndex: 9454 entries, 0 to 9453\n",
      "Data columns (total 7 columns):\n",
      " #   Column                Non-Null Count  Dtype  \n",
      "---  ------                --------------  -----  \n",
      " 0   Submission time       9454 non-null   object \n",
      " 1   User ID               9454 non-null   object \n",
      " 2   Term                  9454 non-null   object \n",
      " 3   Course                9454 non-null   object \n",
      " 4   Professor             9454 non-null   object \n",
      " 5   Grade distribution    9454 non-null   object \n",
      " 6   Recommend professor?  0 non-null      float64\n",
      "dtypes: float64(1), object(6)\n",
      "memory usage: 517.1+ KB\n",
      "\n",
      "Descriptive statistics:\n"
     ]
    },
    {
     "data": {
      "text/html": [
       "<div>\n",
       "<style scoped>\n",
       "    .dataframe tbody tr th:only-of-type {\n",
       "        vertical-align: middle;\n",
       "    }\n",
       "\n",
       "    .dataframe tbody tr th {\n",
       "        vertical-align: top;\n",
       "    }\n",
       "\n",
       "    .dataframe thead th {\n",
       "        text-align: right;\n",
       "    }\n",
       "</style>\n",
       "<table border=\"1\" class=\"dataframe\">\n",
       "  <thead>\n",
       "    <tr style=\"text-align: right;\">\n",
       "      <th></th>\n",
       "      <th>Recommend professor?</th>\n",
       "    </tr>\n",
       "  </thead>\n",
       "  <tbody>\n",
       "    <tr>\n",
       "      <th>count</th>\n",
       "      <td>0.0</td>\n",
       "    </tr>\n",
       "    <tr>\n",
       "      <th>mean</th>\n",
       "      <td>NaN</td>\n",
       "    </tr>\n",
       "    <tr>\n",
       "      <th>std</th>\n",
       "      <td>NaN</td>\n",
       "    </tr>\n",
       "    <tr>\n",
       "      <th>min</th>\n",
       "      <td>NaN</td>\n",
       "    </tr>\n",
       "    <tr>\n",
       "      <th>25%</th>\n",
       "      <td>NaN</td>\n",
       "    </tr>\n",
       "    <tr>\n",
       "      <th>50%</th>\n",
       "      <td>NaN</td>\n",
       "    </tr>\n",
       "    <tr>\n",
       "      <th>75%</th>\n",
       "      <td>NaN</td>\n",
       "    </tr>\n",
       "    <tr>\n",
       "      <th>max</th>\n",
       "      <td>NaN</td>\n",
       "    </tr>\n",
       "  </tbody>\n",
       "</table>\n",
       "</div>"
      ],
      "text/plain": [
       "       Recommend professor?\n",
       "count                   0.0\n",
       "mean                    NaN\n",
       "std                     NaN\n",
       "min                     NaN\n",
       "25%                     NaN\n",
       "50%                     NaN\n",
       "75%                     NaN\n",
       "max                     NaN"
      ]
     },
     "execution_count": 6,
     "metadata": {},
     "output_type": "execute_result"
    }
   ],
   "source": [
    "# Show basic info about the DataFrame\n",
    "print(\"\\nDataFrame info:\")\n",
    "df.info()\n",
    "\n",
    "print(\"\\nDescriptive statistics:\")\n",
    "df.describe()"
   ]
  },
  {
   "cell_type": "code",
   "execution_count": 7,
   "id": "405fdac3-bcb5-4e0b-bf44-28ddf496e977",
   "metadata": {},
   "outputs": [
    {
     "name": "stdout",
     "output_type": "stream",
     "text": [
      "\n",
      "Missing values per column:\n"
     ]
    },
    {
     "data": {
      "text/plain": [
       "Submission time            0\n",
       "User ID                    0\n",
       "Term                       0\n",
       "Course                     0\n",
       "Professor                  0\n",
       "Grade distribution         0\n",
       "Recommend professor?    9454\n",
       "dtype: int64"
      ]
     },
     "execution_count": 7,
     "metadata": {},
     "output_type": "execute_result"
    }
   ],
   "source": [
    "print(\"\\nMissing values per column:\")\n",
    "df.isnull().sum()"
   ]
  },
  {
   "cell_type": "code",
   "execution_count": 8,
   "id": "0fb09a64-d424-4bff-9478-f42b3724d221",
   "metadata": {},
   "outputs": [],
   "source": [
    "# Basic visualization (if 'GPA' column exists)\n",
    "if \"GPA\" in df.columns:\n",
    "    print(\"\\nPlotting the GPA distribution...\")\n",
    "    df[\"GPA\"].hist(bins=20)\n",
    "    plt.title(\"GPA Distribution\")\n",
    "    plt.xlabel(\"GPA\")\n",
    "    plt.ylabel(\"Frequency\")\n",
    "    plt.show()"
   ]
  },
  {
   "cell_type": "code",
   "execution_count": 9,
   "id": "4a7fa375-730a-42b3-820b-c2e93b4e2de0",
   "metadata": {},
   "outputs": [
    {
     "name": "stdout",
     "output_type": "stream",
     "text": [
      "Further exploration or summary can be added here.\n"
     ]
    }
   ],
   "source": [
    "# You can add more groupby, filtering, or visualization code below\n",
    "# Example: grouping by course or professor\n",
    "# df.groupby(\"course_name\")[\"GPA\"].mean().sort_values(ascending=False).head(10)\n",
    "\n",
    "# This cell is reserved for additional analysis steps\n",
    "print(\"Further exploration or summary can be added here.\")"
   ]
  },
  {
   "cell_type": "code",
   "execution_count": null,
   "id": "305c507e-59d5-469b-8a2b-92608080fad5",
   "metadata": {},
   "outputs": [],
   "source": []
  }
 ],
 "metadata": {
  "kernelspec": {
   "display_name": "Python 3 (ipykernel)",
   "language": "python",
   "name": "python3"
  },
  "language_info": {
   "codemirror_mode": {
    "name": "ipython",
    "version": 3
   },
   "file_extension": ".py",
   "mimetype": "text/x-python",
   "name": "python",
   "nbconvert_exporter": "python",
   "pygments_lexer": "ipython3",
   "version": "3.10.14"
  }
 },
 "nbformat": 4,
 "nbformat_minor": 5
}
